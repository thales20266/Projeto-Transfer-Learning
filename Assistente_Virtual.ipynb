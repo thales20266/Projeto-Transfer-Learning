{
  "nbformat": 4,
  "nbformat_minor": 0,
  "metadata": {
    "colab": {
      "provenance": [],
      "authorship_tag": "ABX9TyNSL42lmR0J9MCYHMS4LDp4",
      "include_colab_link": true
    },
    "kernelspec": {
      "name": "python3",
      "display_name": "Python 3"
    },
    "language_info": {
      "name": "python"
    }
  },
  "cells": [
    {
      "cell_type": "markdown",
      "metadata": {
        "id": "view-in-github",
        "colab_type": "text"
      },
      "source": [
        "<a href=\"https://colab.research.google.com/github/thales20266/Projeto-Transfer-Learning/blob/main/Assistente_Virtual.ipynb\" target=\"_parent\"><img src=\"https://colab.research.google.com/assets/colab-badge.svg\" alt=\"Open In Colab\"/></a>"
      ]
    },
    {
      "cell_type": "code",
      "execution_count": 1,
      "metadata": {
        "colab": {
          "base_uri": "https://localhost:8080/"
        },
        "id": "i4pkj4z42-k1",
        "outputId": "a9f5f075-4569-4578-bfda-b14ae9f21290"
      },
      "outputs": [
        {
          "output_type": "stream",
          "name": "stdout",
          "text": [
            "Collecting SpeechRecognition==3.8.1\n",
            "  Downloading SpeechRecognition-3.8.1-py2.py3-none-any.whl.metadata (28 kB)\n",
            "Requirement already satisfied: pydub in /usr/local/lib/python3.12/dist-packages (0.25.1)\n",
            "Collecting wikipedia\n",
            "  Downloading wikipedia-1.4.0.tar.gz (27 kB)\n",
            "  Preparing metadata (setup.py) ... \u001b[?25l\u001b[?25hdone\n",
            "Collecting gTTS\n",
            "  Downloading gTTS-2.5.4-py3-none-any.whl.metadata (4.1 kB)\n",
            "Collecting playsound==1.2.2\n",
            "  Downloading playsound-1.2.2-py2.py3-none-any.whl.metadata (3.3 kB)\n",
            "Requirement already satisfied: beautifulsoup4 in /usr/local/lib/python3.12/dist-packages (from wikipedia) (4.13.5)\n",
            "Requirement already satisfied: requests<3.0.0,>=2.0.0 in /usr/local/lib/python3.12/dist-packages (from wikipedia) (2.32.4)\n",
            "Collecting click<8.2,>=7.1 (from gTTS)\n",
            "  Downloading click-8.1.8-py3-none-any.whl.metadata (2.3 kB)\n",
            "Requirement already satisfied: charset_normalizer<4,>=2 in /usr/local/lib/python3.12/dist-packages (from requests<3.0.0,>=2.0.0->wikipedia) (3.4.3)\n",
            "Requirement already satisfied: idna<4,>=2.5 in /usr/local/lib/python3.12/dist-packages (from requests<3.0.0,>=2.0.0->wikipedia) (3.10)\n",
            "Requirement already satisfied: urllib3<3,>=1.21.1 in /usr/local/lib/python3.12/dist-packages (from requests<3.0.0,>=2.0.0->wikipedia) (2.5.0)\n",
            "Requirement already satisfied: certifi>=2017.4.17 in /usr/local/lib/python3.12/dist-packages (from requests<3.0.0,>=2.0.0->wikipedia) (2025.8.3)\n",
            "Requirement already satisfied: soupsieve>1.2 in /usr/local/lib/python3.12/dist-packages (from beautifulsoup4->wikipedia) (2.8)\n",
            "Requirement already satisfied: typing-extensions>=4.0.0 in /usr/local/lib/python3.12/dist-packages (from beautifulsoup4->wikipedia) (4.15.0)\n",
            "Downloading SpeechRecognition-3.8.1-py2.py3-none-any.whl (32.8 MB)\n",
            "\u001b[2K   \u001b[90m━━━━━━━━━━━━━━━━━━━━━━━━━━━━━━━━━━━━━━━━\u001b[0m \u001b[32m32.8/32.8 MB\u001b[0m \u001b[31m54.4 MB/s\u001b[0m eta \u001b[36m0:00:00\u001b[0m\n",
            "\u001b[?25hDownloading playsound-1.2.2-py2.py3-none-any.whl (6.0 kB)\n",
            "Downloading gTTS-2.5.4-py3-none-any.whl (29 kB)\n",
            "Downloading click-8.1.8-py3-none-any.whl (98 kB)\n",
            "\u001b[2K   \u001b[90m━━━━━━━━━━━━━━━━━━━━━━━━━━━━━━━━━━━━━━━━\u001b[0m \u001b[32m98.2/98.2 kB\u001b[0m \u001b[31m8.7 MB/s\u001b[0m eta \u001b[36m0:00:00\u001b[0m\n",
            "\u001b[?25hBuilding wheels for collected packages: wikipedia\n",
            "  Building wheel for wikipedia (setup.py) ... \u001b[?25l\u001b[?25hdone\n",
            "  Created wheel for wikipedia: filename=wikipedia-1.4.0-py3-none-any.whl size=11678 sha256=4a7d6b3fda58b25d0cf9f6cf45432f26d97ce69cc565105a73da5fec7061c987\n",
            "  Stored in directory: /root/.cache/pip/wheels/63/47/7c/a9688349aa74d228ce0a9023229c6c0ac52ca2a40fe87679b8\n",
            "Successfully built wikipedia\n",
            "Installing collected packages: SpeechRecognition, playsound, click, wikipedia, gTTS\n",
            "  Attempting uninstall: click\n",
            "    Found existing installation: click 8.2.1\n",
            "    Uninstalling click-8.2.1:\n",
            "      Successfully uninstalled click-8.2.1\n",
            "Successfully installed SpeechRecognition-3.8.1 click-8.1.8 gTTS-2.5.4 playsound-1.2.2 wikipedia-1.4.0\n",
            "Reading package lists... Done\n",
            "Building dependency tree... Done\n",
            "Reading state information... Done\n",
            "libsndfile1 is already the newest version (1.0.31-2ubuntu0.2).\n",
            "ffmpeg is already the newest version (7:4.4.2-0ubuntu0.22.04.1).\n",
            "0 upgraded, 0 newly installed, 0 to remove and 35 not upgraded.\n"
          ]
        }
      ],
      "source": [
        "!pip install SpeechRecognition==3.8.1 pydub wikipedia gTTS playsound==1.2.2\n",
        "!apt-get install -y ffmpeg libsndfile1"
      ]
    },
    {
      "cell_type": "code",
      "source": [
        "import os\n",
        "import io\n",
        "from IPython.display import Audio, display, HTML\n",
        "from pydub import AudioSegment\n",
        "\n",
        "def convert_to_wav(input_path: str, output_path: str = None, sample_rate: int = 16000):\n",
        "    \"\"\"Converte arquivo de áudio para WAV PCM 16k mono (compatível com bibliotecas STT).\"\"\"\n",
        "    if output_path is None:\n",
        "        base, _ = os.path.splitext(input_path)\n",
        "        output_path = f\"{base}_conv.wav\"\n",
        "    audio = AudioSegment.from_file(input_path)\n",
        "    audio = audio.set_frame_rate(sample_rate).set_channels(1)\n",
        "    audio.export(output_path, format='wav')\n",
        "    return output_path\n",
        "\n",
        "wav_path = convert_to_wav(\"/content/novobalanço.mp3\")\n",
        "print(\"Arquivo convertido:\", wav_path)\n",
        "\n"
      ],
      "metadata": {
        "colab": {
          "base_uri": "https://localhost:8080/"
        },
        "id": "HP4zY0ed6X9p",
        "outputId": "d0be97e2-4eb6-4222-a6f8-6f67b770948f"
      },
      "execution_count": 7,
      "outputs": [
        {
          "output_type": "stream",
          "name": "stdout",
          "text": [
            "Arquivo convertido: /content/novobalanço_conv.wav\n"
          ]
        }
      ]
    },
    {
      "cell_type": "code",
      "source": [
        "# 3) Speech-to-Text: usando SpeechRecognition + Google Web Speech API\n",
        "# =====================\n",
        "import speech_recognition as sr\n",
        "\n",
        "\n",
        "\n",
        "\n",
        "def speech_to_text_google(wav_path: str) -> str:\n",
        "\n",
        "#Transcreve arquivo WAV usando o recognizer do Google (SpeechRecognition).\n",
        "#Observação: Requer internet; é gratuito para pequenos usos, mas sujeito a limites.\n",
        "\n",
        "  r = sr.Recognizer()\n",
        "  with sr.AudioFile(wav_path) as source:\n",
        "    audio = r.record(source)\n",
        "  try:\n",
        "    text = r.recognize_google(audio, language='pt-BR')\n",
        "    return text\n",
        "  except sr.UnknownValueError:\n",
        "    return \"[Não foi possível entender o áudio]\"\n",
        "  except sr.RequestError as e:\n",
        "    return f\"[Erro na requisição ao serviço de reconhecimento: {e}]\""
      ],
      "metadata": {
        "id": "lq02q3Oz3jJy"
      },
      "execution_count": 12,
      "outputs": []
    },
    {
      "cell_type": "code",
      "source": [
        "# 4) Text-to-Speech: usando gTTS\n",
        "# =====================\n",
        "from gtts import gTTS\n",
        "\n",
        "\n",
        "\n",
        "\n",
        "def text_to_speech(text: str, lang: str = 'pt', out_path: str = 'tts_output.mp3') -> str:\n",
        "#Gera arquivo MP3 com a fala do texto e retorna o caminho do arquivo.\"\"\"\n",
        "  tts = gTTS(text=text, lang=lang)\n",
        "  tts.save(out_path)\n",
        "  return out_path"
      ],
      "metadata": {
        "id": "glVjVa8v3mdu"
      },
      "execution_count": 13,
      "outputs": []
    },
    {
      "cell_type": "code",
      "source": [
        "# 5) Módulo de interpretação de comandos (NLU simples - intent rules)\n",
        "# =====================\n",
        "import re\n",
        "import urllib.parse\n",
        "import wikipedia\n",
        "\n",
        "\n",
        "wikipedia.set_lang('pt')\n",
        "\n",
        "\n",
        "\n",
        "\n",
        "def interpretar_comando(texto: str) -> dict:\n",
        "#Analisa a frase e retorna um dicionário com intent e parâmetros.\n",
        "#Intent simples baseada em palavras-chave.\n",
        "#Exemplos de intents: wikipedia_search, open_youtube, find_pharmacy, say_time, unknown\n",
        "\n",
        "  t = texto.lower()\n",
        "\n",
        "\n",
        "# wikipedia\n",
        "  if 'wikipedia' in t or 'wikipédia' in t or 'pesquise' in t and 'wikipedia' in t:\n",
        "  # tenta extrair o tópico\n",
        "    match = re.search(r'(?:(pesquise|procure|buscar) por|sobre) (.+)', t)\n",
        "    topic = match.group(2) if match else t\n",
        "    return {'intent': 'wikipedia_search', 'topic': topic}\n",
        "\n",
        "\n",
        "# youtube\n",
        "  if 'youtube' in t or 'vídeo' in t or 'toca' in t and 'youtube' in t:\n",
        "    match = re.search(r'(?:youtube|vídeo) (?:sobre|de|sobre o|sobre a)?\\s*(.*)', t)\n",
        "    topic = match.group(1) if match and match.group(1).strip() else ''\n",
        "    return {'intent': 'open_youtube', 'topic': topic}\n",
        "\n",
        "\n",
        "# find pharmacy / farmácia\n",
        "  if 'farmácia' in t or 'farmacia' in t or 'remédio' in t:\n",
        "    return {'intent': 'find_pharmacy'}\n",
        "\n",
        "\n",
        "# hora\n",
        "  if 'hora' in t or 'que horas' in t:\n",
        "    return {'intent': 'say_time'}\n",
        "\n",
        "\n",
        "# saudação\n",
        "  if any(x in t for x in ['olá', 'oi', 'bom dia', 'boa tarde', 'boa noite']):\n",
        "    return {'intent': 'greeting'}\n",
        "\n",
        "\n",
        "# comandos de abrir site simples\n",
        "  match_open = re.search(r'abrir (.+)', t)\n",
        "  if match_open:\n",
        "    site = match_open.group(1)\n",
        "    return {'intent': 'open_website', 'site': site}\n",
        "\n",
        "\n",
        "  return {'intent': 'unknown'}"
      ],
      "metadata": {
        "id": "f9s2Zx0T3oZm"
      },
      "execution_count": 14,
      "outputs": []
    },
    {
      "cell_type": "code",
      "source": [
        "# 6) Executor de intents (ações automatizadas)\n",
        "# =====================\n",
        "import datetime\n",
        "from IPython.display import HTML\n",
        "\n",
        "\n",
        "\n",
        "\n",
        "def executar_intent(intent: dict) -> str:\n",
        "#Executa a ação correspondente à intent e retorna uma resposta textual.\"\"\"\n",
        "  it = intent.get('intent')\n",
        "  if it == 'wikipedia_search':\n",
        "    topic = intent.get('topic', '')\n",
        "    try:\n",
        "      summary = wikipedia.summary(topic, sentences=2)\n",
        "      return f\"WIKIPEDIA: {summary}\"\n",
        "    except Exception as e:\n",
        "      return f\"Não encontrei informação sobre '{topic}' na Wikipedia. ({e})\"\n",
        "\n",
        "  if it == 'open_youtube':\n",
        "    topic = intent.get('topic', '')\n",
        "    query = urllib.parse.quote(topic or '')\n",
        "    url = f'https://www.youtube.com/results?search_query={query}'\n",
        "    return f'Abra este link no navegador para ver resultados no YouTube: {url}'\n",
        "\n",
        "  if it == 'find_pharmacy':\n",
        "    url = 'https://www.google.com/maps/search/pharmacy+near+me'\n",
        "    return f'Abra este link para encontrar farmácias próximas: {url}'\n",
        "\n",
        "  if it == 'say_time':\n",
        "    now = datetime.datetime.now()\n",
        "    return f'Agora são {now.hour:02d}:{now.minute:02d}.'\n",
        "\n",
        "  if it == 'greeting':\n",
        "    return 'Olá! Como posso ajudar você hoje?'\n",
        "\n",
        "  if it == 'open_website':\n",
        "    site = intent.get('site')\n",
        "  # tenta criar url plausível\n",
        "    if not site.startswith('http'):\n",
        "      if ' ' in site:\n",
        "        site_query = urllib.parse.quote(site)\n",
        "        url = f'https://www.google.com/search?q={site_query}'\n",
        "      else:\n",
        "        url = f'https://{site}'\n",
        "    else:\n",
        "      url = site\n",
        "    return f'Abra este link: {url}'\n",
        "\n",
        "  return \"Desculpe, não entendi o comando.\""
      ],
      "metadata": {
        "id": "lyGhjJbW3rpJ"
      },
      "execution_count": 15,
      "outputs": []
    },
    {
      "cell_type": "code",
      "source": [
        "# 7) Pipeline principal: gravar/transcrever/interpretar/executar\n",
        "# =====================\n",
        "\n",
        "\n",
        "def pipeline_from_file(wav_path: str, speak_response: bool = True) -> dict:\n",
        "#Processa um arquivo WAV: transcreve, interpreta e executa a intent.\n",
        "#Retorna dicionário com keys: transcript, intent, action_response, tts_path (opcional)\n",
        "\n",
        "  transcript = speech_to_text_google(wav_path)\n",
        "  intent = interpretar_comando(transcript)\n",
        "  action_response = executar_intent(intent)\n",
        "\n",
        "  tts_path = None\n",
        "  if speak_response:\n",
        "    tts_path = text_to_speech(action_response, lang='pt', out_path='assistant_reply.mp3')\n",
        "  return {\n",
        "    'transcript': transcript,\n",
        "    'intent': intent,\n",
        "    'action_response': action_response,\n",
        "    'tts_path': tts_path\n",
        "}"
      ],
      "metadata": {
        "id": "_Be3ijft3t07"
      },
      "execution_count": 16,
      "outputs": []
    }
  ]
}