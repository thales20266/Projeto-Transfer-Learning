{
  "nbformat": 4,
  "nbformat_minor": 0,
  "metadata": {
    "colab": {
      "provenance": [],
      "authorship_tag": "ABX9TyPi+nkSmVdlRcjVDRLzjZYE",
      "include_colab_link": true
    },
    "kernelspec": {
      "name": "python3",
      "display_name": "Python 3"
    },
    "language_info": {
      "name": "python"
    }
  },
  "cells": [
    {
      "cell_type": "markdown",
      "metadata": {
        "id": "view-in-github",
        "colab_type": "text"
      },
      "source": [
        "<a href=\"https://colab.research.google.com/github/thales20266/Projeto-Transfer-Learning/blob/main/Agente_para_Detec%C3%A7%C3%A3o_de_Vulnerabilidades_em_Arquiteturas.ipynb\" target=\"_parent\"><img src=\"https://colab.research.google.com/assets/colab-badge.svg\" alt=\"Open In Colab\"/></a>"
      ]
    },
    {
      "cell_type": "code",
      "execution_count": 1,
      "metadata": {
        "id": "hZ8vLfxB-W76"
      },
      "outputs": [],
      "source": [
        "from fastapi import FastAPI, File, UploadFile\n",
        "from fastapi.responses import JSONResponse\n",
        "\n",
        "app = FastAPI(title=\"STRIDE Threat Analysis API\")\n",
        "\n",
        "@app.post(\"/analyze/\")\n",
        "async def analyze_image(file: UploadFile = File(...)):\n",
        "    content = await file.read()\n",
        "    # Aqui você chamaria o processamento de imagem + Azure OpenAI\n",
        "    return JSONResponse({\"message\": \"Processamento realizado com sucesso\"})"
      ]
    }
  ]
}