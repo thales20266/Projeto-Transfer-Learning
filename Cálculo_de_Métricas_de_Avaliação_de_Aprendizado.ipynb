{
  "nbformat": 4,
  "nbformat_minor": 0,
  "metadata": {
    "colab": {
      "provenance": [],
      "authorship_tag": "ABX9TyN/nkN5RY6/aWKYg99UyEpS",
      "include_colab_link": true
    },
    "kernelspec": {
      "name": "python3",
      "display_name": "Python 3"
    },
    "language_info": {
      "name": "python"
    }
  },
  "cells": [
    {
      "cell_type": "markdown",
      "metadata": {
        "id": "view-in-github",
        "colab_type": "text"
      },
      "source": [
        "<a href=\"https://colab.research.google.com/github/thales20266/Projeto-Transfer-Learning/blob/main/C%C3%A1lculo_de_M%C3%A9tricas_de_Avalia%C3%A7%C3%A3o_de_Aprendizado.ipynb\" target=\"_parent\"><img src=\"https://colab.research.google.com/assets/colab-badge.svg\" alt=\"Open In Colab\"/></a>"
      ]
    },
    {
      "cell_type": "code",
      "execution_count": 5,
      "metadata": {
        "colab": {
          "base_uri": "https://localhost:8080/"
        },
        "id": "KqDY0aMHa4bK",
        "outputId": "97d27bb4-bdce-4c75-b693-aed63ac20d9d"
      },
      "outputs": [
        {
          "output_type": "stream",
          "name": "stdout",
          "text": [
            "Acurácia: 85.00%\n",
            "Recall (Sensibilidade): 87.50%\n",
            "Especificidade: 83.33%\n",
            "Precisão: 77.78%\n",
            "F1-Score: 82.35%\n"
          ]
        }
      ],
      "source": [
        "# Definindo os valores arbitrários da matriz de confusão\n",
        "VP = 35\n",
        "VN = 50\n",
        "FP = 10\n",
        "FN = 5\n",
        "\n",
        "# Funções para as métricas\n",
        "def acuracia(VP, VN, FP, FN):\n",
        "    return ((VP + VN) / (VP + VN + FP + FN))*100\n",
        "\n",
        "def recall(VP, FN):\n",
        "    return (VP / (VP + FN))*100\n",
        "\n",
        "def especificidade(VN, FP):\n",
        "    return (VN / (VN + FP))*100\n",
        "\n",
        "def precisao(VP, FP):\n",
        "    return (VP / (VP + FP))*100\n",
        "\n",
        "def fscore(prec, rec):\n",
        "    return 2 * (prec * rec) / (prec + rec)\n",
        "\n",
        "# Cálculo\n",
        "acc = acuracia(VP, VN, FP, FN)\n",
        "rec = recall(VP, FN)\n",
        "esp = especificidade(VN, FP)\n",
        "prec = precisao(VP, FP)\n",
        "f1 = fscore(prec, rec)\n",
        "\n",
        "print(f\"Acurácia: {acc:.2f}%\")\n",
        "print(f\"Recall (Sensibilidade): {rec:.2f}%\")\n",
        "print(f\"Especificidade: {esp:.2f}%\")\n",
        "print(f\"Precisão: {prec:.2f}%\")\n",
        "print(f\"F1-Score: {f1:.2f}%\")\n"
      ]
    }
  ]
}